{
 "cells": [
  {
   "cell_type": "markdown",
   "id": "b4374ea4-d57a-4229-9232-caaafbbfa5fe",
   "metadata": {},
   "source": [
    "# Example 9.10 - Multiple support excitation\n",
    "\n",
    "Page 390"
   ]
  },
  {
   "cell_type": "markdown",
   "id": "83230a41-954a-4bcd-9d85-d8f1c94cd9f3",
   "metadata": {},
   "source": []
  }
 ],
 "metadata": {
  "kernelspec": {
   "display_name": "Mamba-39",
   "language": "python",
   "name": "mamba-py39"
  },
  "language_info": {
   "codemirror_mode": {
    "name": "ipython",
    "version": 3
   },
   "file_extension": ".py",
   "mimetype": "text/x-python",
   "name": "python",
   "nbconvert_exporter": "python",
   "pygments_lexer": "ipython3",
   "version": "3.9.16"
  }
 },
 "nbformat": 4,
 "nbformat_minor": 5
}
