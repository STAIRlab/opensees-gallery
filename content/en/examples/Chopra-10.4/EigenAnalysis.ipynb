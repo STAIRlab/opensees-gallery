{
 "cells": [
  {
   "cell_type": "code",
   "execution_count": null,
   "id": "52778c82-6982-487c-9081-656c3954e0bb",
   "metadata": {},
   "outputs": [],
   "source": [
    "from "
   ]
  }
 ],
 "metadata": {
  "kernelspec": {
   "display_name": "Mamba-39",
   "language": "python",
   "name": "mamba-py39"
  },
  "language_info": {
   "codemirror_mode": {
    "name": "ipython",
    "version": 3
   },
   "file_extension": ".py",
   "mimetype": "text/x-python",
   "name": "python",
   "nbconvert_exporter": "python",
   "pygments_lexer": "ipython3",
   "version": "3.9.16"
  }
 },
 "nbformat": 4,
 "nbformat_minor": 5
}
