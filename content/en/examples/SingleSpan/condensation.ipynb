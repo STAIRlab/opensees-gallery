{
 "cells": [
  {
   "cell_type": "code",
   "execution_count": 1,
   "metadata": {},
   "outputs": [],
   "source": [
    "import numpy as np\n",
    "import opensees.openseespy as ops"
   ]
  },
  {
   "cell_type": "code",
   "execution_count": 2,
   "metadata": {},
   "outputs": [],
   "source": [
    "\n",
    "def cantilever(L, E, A, Iz, Iy, G=0, J=1):\n",
    "    # Create a model\n",
    "    model = ops.Model(ndm=3, ndf=6)\n",
    "\n",
    "\n",
    "    # Define nodes\n",
    "    model.node(1,  (0.0, 0.0, 0.0))\n",
    "    model.node(2,  (L/2, 0.0, 0.0))\n",
    "    model.node(2,  ( L , 0.0, 0.0))\n",
    "\n",
    "\n",
    "    trn = 1\n",
    "    model.geomTransf(\"Linear\", 1, (0, 0, 1))\n",
    "\n",
    "\n",
    "    sec = 1\n",
    "    model.section(\"ElasticFrame\", sec, E, A, Iz, Iy, G, J, mass=2, Ay=100, Az=100)\n",
    "\n",
    "    model.element(\"PrismFrame\", 1, (1, 2), transform=trn, section=sec, cMass=True)\n",
    "\n",
    "    model.analysis(\"Static\")\n",
    "\n",
    "    return model\n",
    "\n",
    "\n",
    "\n",
    "\n",
    "model = single_span(\"PrismFrame\")\n",
    "K = model.getTangent(k=1)"
   ]
  },
  {
   "cell_type": "code",
   "execution_count": 3,
   "metadata": {},
   "outputs": [],
   "source": [
    "import save_my_eyes.tm "
   ]
  },
  {
   "cell_type": "code",
   "execution_count": 4,
   "metadata": {},
   "outputs": [
    {
     "data": {
      "application/vnd.code.notebook.error": {
       "message": "name 'a' is not defined",
       "name": "NameError",
       "stack": "\u001b[0;31m---------------------------------------------------------------------------\u001b[0m\n\u001b[0;31mNameError\u001b[0m                                 Traceback (most recent call last)\nCell \u001b[0;32mIn[4], line 1\u001b[0m\n\u001b[0;32m----> 1\u001b[0m \u001b[43ma\u001b[49m\n\n\u001b[0;31mNameError\u001b[0m: name 'a' is not defined"
      }
     },
     "execution_count": 4,
     "metadata": {},
     "output_type": "execute_result"
    }
   ],
   "source": [
    "a"
   ]
  },
  {
   "cell_type": "code",
   "execution_count": null,
   "metadata": {},
   "outputs": [],
   "source": []
  }
 ],
 "metadata": {
  "kernelspec": {
   "display_name": "py311",
   "language": "python",
   "name": "python3"
  },
  "language_info": {
   "codemirror_mode": {
    "name": "ipython",
    "version": 3
   },
   "file_extension": ".py",
   "mimetype": "text/x-python",
   "name": "python",
   "nbconvert_exporter": "python",
   "pygments_lexer": "ipython3",
   "version": "3.10.0"
  }
 },
 "nbformat": 4,
 "nbformat_minor": 2
}
