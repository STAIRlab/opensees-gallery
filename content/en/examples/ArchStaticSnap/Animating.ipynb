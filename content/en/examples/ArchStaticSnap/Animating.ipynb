{
 "cells": [
  {
   "cell_type": "markdown",
   "id": "662c14ca-2a8c-46ed-b6a6-4242662738db",
   "metadata": {},
   "source": [
    "# Animating \"Snap-Through\" in a Shallow Arch"
   ]
  },
  {
   "cell_type": "markdown",
   "id": "e98abd82-7bda-4270-baea-c44c959276d3",
   "metadata": {},
   "source": [
    "![](./arch.gif)"
   ]
  },
  {
   "cell_type": "code",
   "execution_count": 4,
   "id": "cf3ae061-68f2-4601-a098-c76df81acc6f",
   "metadata": {},
   "outputs": [],
   "source": [
    "from sees import render\n",
    "from arch import arch_model\n",
    "import matplotlib.pyplot as plt\n",
    "try:\n",
    "    plt.style.use(\"steel\")\n",
    "except:\n",
    "    pass"
   ]
  },
  {
   "cell_type": "markdown",
   "id": "f5c7145e-29d3-4280-90ac-9759de842e51",
   "metadata": {},
   "source": [
    "### Step 1: Create the model"
   ]
  },
  {
   "cell_type": "code",
   "execution_count": 5,
   "id": "90e64429-4c83-4de4-b0ff-cdf74344c4e6",
   "metadata": {},
   "outputs": [],
   "source": [
    "model,mid = arch_model()\n",
    "\n",
    "# Save the model geometry as a dictionary for rendering\n",
    "mesh = model.asdict()"
   ]
  },
  {
   "cell_type": "markdown",
   "id": "723f0f82-d634-46a5-85ac-8c67b5924dbb",
   "metadata": {},
   "source": [
    "### Step 2: Configure the analysis"
   ]
  },
  {
   "cell_type": "code",
   "execution_count": 6,
   "id": "c4805925-6b2a-421b-951a-78fe5c536974",
   "metadata": {},
   "outputs": [],
   "source": [
    "nstep = 8000\n",
    "nplot = 100\n",
    "\n",
    "model.system(\"ProfileSPD\")\n",
    "model.integrator(\"MinUnbalDispNorm\",  1.0, 15, -10, 10)\n",
    "model.analysis(\"Static\")\n",
    "\n",
    "xy = []"
   ]
  },
  {
   "cell_type": "markdown",
   "id": "7b0de004-c36f-4197-9f06-3a65abc270de",
   "metadata": {},
   "source": [
    "### Perform the analysis"
   ]
  },
  {
   "cell_type": "code",
   "execution_count": 1,
   "id": "42f02e10-7d46-4264-b885-290f7194dbf3",
   "metadata": {},
   "outputs": [],
   "source": [
    "for i in range(nstep):\n",
    "\n",
    "    model.analyze(1)\n",
    "    \n",
    "    xy.append([-model.nodeDisp(mid, 2), model.getTime()])\n",
    "\n",
    "    if not i%(nstep/nplot):\n",
    "        # Render a frame of the animation\n",
    "        \n",
    "        fig = plt.figure()\n",
    "        grid = fig.add_gridspec(4,4)\n",
    "        \n",
    "        ax = fig.add_subplot(grid[:2,:])\n",
    "        ax.set_autoscale_on(True)\n",
    "        ax.set_axis_off()\n",
    "\n",
    "        # Collect the response at each node\n",
    "        resp = {\n",
    "            i: model.nodeDisp(i) for i in model.getNodeTags()\n",
    "        }\n",
    "\n",
    "        render(mesh, resp, noshow=True, view=\"elev\", scale=1, ndf=3, \n",
    "               canvas={\"ax\": ax, \"ndm\": 2}, \n",
    "               vert=3)\n",
    "\n",
    "\n",
    "        ax2 = fig.add_subplot(grid[2:,:])\n",
    "        ax2.plot(*zip(*xy))\n",
    "        ax2.set_ylim([-500, 1500])\n",
    "        ax2.set_xlim([0, 1000])\n",
    "\n",
    "        fig.tight_layout()\n",
    "        \n",
    "        # Save the figure to a .jpg file\n",
    "        fig.savefig(f\"out/{i:0>4}.jpg\")\n",
    "        plt.close()"
   ]
  },
  {
   "cell_type": "markdown",
   "id": "e867b1bb-0331-404b-9422-2f1fd55abb78",
   "metadata": {},
   "source": [
    "## Stich Frames into Video"
   ]
  },
  {
   "cell_type": "code",
   "execution_count": 7,
   "id": "2310ce12-021a-4b35-b35e-192bbff6c82a",
   "metadata": {},
   "outputs": [
    {
     "name": "stderr",
     "output_type": "stream",
     "text": [
      "/tmp/ipykernel_1777/4275292263.py:4: DeprecationWarning: Starting with ImageIO v3 the behavior of this function will switch to that of iio.v3.imread. To keep the current behavior (and make this warning disappear) use `import imageio.v2 as imageio` or call `imageio.v2.imread` directly.\n",
      "  imageio.imread(i) for i in sorted(Path(\"./out/\").glob(\"*.jpg\"))\n"
     ]
    }
   ],
   "source": [
    "from pathlib import Path\n",
    "import imageio\n",
    "images = [\n",
    "    imageio.imread(i) for i in sorted(Path(\"./out/\").glob(\"*.jpg\"))\n",
    "]\n",
    "\n",
    "imageio.mimsave('mygif.gif', images, duration = 5.5, loop=10)\n",
    "# imageio.mimsave('mygif.mp4', images)#, duration = 5.5)"
   ]
  },
  {
   "cell_type": "code",
   "execution_count": 1,
   "id": "33b371e9-88c7-48fd-804f-e1b928f8a1c4",
   "metadata": {},
   "outputs": [
    {
     "data": {
      "text/plain": [
       "opensees.openseespy.Model"
      ]
     },
     "execution_count": 1,
     "metadata": {},
     "output_type": "execute_result"
    }
   ],
   "source": [
    "import opensees.openseespy\n",
    "opensees.openseespy.Model"
   ]
  },
  {
   "cell_type": "code",
   "execution_count": null,
   "id": "ba573b18-abd0-4f2f-aac4-55a7fd8a6b5d",
   "metadata": {},
   "outputs": [],
   "source": []
  }
 ],
 "metadata": {
  "kernelspec": {
   "display_name": "Mamba-39",
   "language": "python",
   "name": "mamba-py39"
  },
  "language_info": {
   "codemirror_mode": {
    "name": "ipython",
    "version": 3
   },
   "file_extension": ".py",
   "mimetype": "text/x-python",
   "name": "python",
   "nbconvert_exporter": "python",
   "pygments_lexer": "ipython3",
   "version": "3.9.16"
  }
 },
 "nbformat": 4,
 "nbformat_minor": 5
}
