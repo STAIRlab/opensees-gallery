{
 "cells": [
  {
   "cell_type": "code",
   "execution_count": null,
   "id": "4bc3576a-7850-426d-baa6-9c6d443f75c4",
   "metadata": {},
   "outputs": [],
   "source": []
  },
  {
   "cell_type": "code",
   "execution_count": 13,
   "id": "429c76e2-9610-4dcd-854e-00a33c19b14b",
   "metadata": {
    "scrolled": true
   },
   "outputs": [
    {
     "name": "stdout",
     "output_type": "stream",
     "text": [
      "Kf:\n",
      "[[ 1.57505061e+03  0.00000000e+00  7.56024291e+04]\n",
      " [ 0.00000000e+00  1.16087302e+04 -1.21265960e-12]\n",
      " [ 7.56024291e+04 -1.21265960e-12  4.83855547e+06]]\n",
      "Mf:\n",
      "[[2.e+00 0.e+00 0.e+00]\n",
      " [0.e+00 2.e+00 0.e+00]\n",
      " [0.e+00 0.e+00 1.e-04]]\n"
     ]
    }
   ],
   "source": [
    "# State = Initialize_State (Model,ElemData)\n",
    "# State = Structure('stif',Model,ElemData,State)\n",
    "\n",
    "# Initialize the analysis state for transient analysis\n",
    "model.analysis(\"Transient\")\n",
    "\n",
    "# Form stiffness and mass matrices\n",
    "Kf = model.getTangent(k=1.0)  # free DOF stiffness matrix Kf for initial State\n",
    "Mf = model.getTangent(m=1.0)  # free DOF mass matrix Ml\n",
    "\n",
    "print(\"Kf:\", Kf, sep=\"\\n\")\n",
    "print(\"Mf:\", Mf, sep=\"\\n\")"
   ]
  }
 ],
 "metadata": {
  "kernelspec": {
   "display_name": "Mamba-39",
   "language": "python",
   "name": "mamba-py39"
  },
  "language_info": {
   "codemirror_mode": {
    "name": "ipython",
    "version": 3
   },
   "file_extension": ".py",
   "mimetype": "text/x-python",
   "name": "python",
   "nbconvert_exporter": "python",
   "pygments_lexer": "ipython3",
   "version": "3.9.16"
  }
 },
 "nbformat": 4,
 "nbformat_minor": 5
}
