{
 "cells": [
  {
   "cell_type": "markdown",
   "id": "bc5d16fc-573d-429c-9dcf-363a671ccb70",
   "metadata": {},
   "source": [
    "# Example 9.7\n",
    "\n",
    "Page 368. Form $\\mathbf{K}$ and $\\mathbf{M}$."
   ]
  },
  {
   "cell_type": "code",
   "execution_count": null,
   "id": "95aa64e3-3ca5-4854-ae43-4b665727a48c",
   "metadata": {},
   "outputs": [],
   "source": []
  }
 ],
 "metadata": {
  "kernelspec": {
   "display_name": "Mamba-39",
   "language": "python",
   "name": "mamba-py39"
  },
  "language_info": {
   "codemirror_mode": {
    "name": "ipython",
    "version": 3
   },
   "file_extension": ".py",
   "mimetype": "text/x-python",
   "name": "python",
   "nbconvert_exporter": "python",
   "pygments_lexer": "ipython3",
   "version": "3.9.16"
  }
 },
 "nbformat": 4,
 "nbformat_minor": 5
}
