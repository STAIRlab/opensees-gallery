{
 "cells": [
  {
   "cell_type": "code",
   "execution_count": 1,
   "id": "4bc3576a-7850-426d-baa6-9c6d443f75c4",
   "metadata": {},
   "outputs": [],
   "source": [
    "from dynamics import create_model, static_condensation, eigen_analysis"
   ]
  },
  {
   "cell_type": "markdown",
   "id": "d86b9981-0dc2-403a-9d59-28952fb04a10",
   "metadata": {},
   "source": [
    "![](ShearFrame5.png)"
   ]
  },
  {
   "cell_type": "code",
   "execution_count": 3,
   "id": "8c5093de-6116-4fa0-beb7-13b44e1c76d5",
   "metadata": {},
   "outputs": [],
   "source": [
    "model = create_model()"
   ]
  },
  {
   "cell_type": "code",
   "execution_count": 5,
   "id": "c261786a-e9c1-40a2-90f5-10c283aa1726",
   "metadata": {},
   "outputs": [
    {
     "data": {
      "image/png": "[encoded data removed]",
      "text/plain": [
       "<Figure size 640x480 with 1 Axes>"
      ]
     },
     "metadata": {},
     "output_type": "display_data"
    }
   ],
   "source": [
    "from sees import render\n",
    "render(model);"
   ]
  },
  {
   "cell_type": "code",
   "execution_count": null,
   "id": "d994c9fe-9a7d-48ed-ab3a-c7a117c2d334",
   "metadata": {
    "scrolled": true
   },
   "outputs": [],
   "source": [
    "# Initialize the analysis state for transient analysis\n",
    "model.analysis(\"Transient\")\n",
    "\n",
    "# Form stiffness and mass matrices\n",
    "Kf = model.getTangent(k=1.0) # free DOF stiffness matrix Kf for initial State\n",
    "Mf = model.getTangent(m=1.0) # free DOF mass matrix Ml"
   ]
  },
  {
   "cell_type": "code",
   "execution_count": null,
   "id": "51774d69-a181-4a33-bfdc-44b4502edbb7",
   "metadata": {
    "scrolled": true
   },
   "outputs": [
    {
     "name": "stdout",
     "output_type": "stream",
     "text": [
      "Kc:\n",
      "[[ 7.79870172e+03 -7.65134121e+03 -4.25391729e+01 -4.45836480e+00]\n",
      " [-7.65134121e+03  7.79870172e+03 -4.45836480e+00 -4.25391729e+01]\n",
      " [-4.25391729e+01 -4.45836480e+00  7.68785802e+03 -7.65673036e+03]\n",
      " [-4.45836480e+00 -4.25391729e+01 -7.65673036e+03  7.68785802e+03]]\n",
      "Mc:\n",
      "[[0.25900792 0.         0.         0.        ]\n",
      " [0.         0.25900792 0.         0.        ]\n",
      " [0.         0.         0.12950396 0.        ]\n",
      " [0.         0.         0.         0.12950396]]\n"
     ]
    }
   ],
   "source": [
    "Mc, Kc = static_condensation(Mf, Kf, model=model)\n",
    "\n",
    "print(\"Kc:\", Kc, sep=\"\\n\")\n",
    "print(\"Mc:\", Mc, sep=\"\\n\")"
   ]
  },
  {
   "cell_type": "code",
   "execution_count": null,
   "id": "85b607ab-e0a8-417d-a049-2415fb118021",
   "metadata": {},
   "outputs": [],
   "source": []
  }
 ],
 "metadata": {
  "kernelspec": {
   "display_name": "Mamba-39",
   "language": "python",
   "name": "mamba-py39"
  },
  "language_info": {
   "codemirror_mode": {
    "name": "ipython",
    "version": 3
   },
   "file_extension": ".py",
   "mimetype": "text/x-python",
   "name": "python",
   "nbconvert_exporter": "python",
   "pygments_lexer": "ipython3",
   "version": "3.9.16"
  }
 },
 "nbformat": 4,
 "nbformat_minor": 5
}
