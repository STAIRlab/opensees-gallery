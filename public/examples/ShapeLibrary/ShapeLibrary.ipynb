{
 "cells": [
  {
   "cell_type": "code",
   "execution_count": 1,
   "id": "aae086e0-285c-47c6-8b61-089d60748434",
   "metadata": {},
   "outputs": [],
   "source": [
    "import opensees"
   ]
  },
  {
   "cell_type": "code",
   "execution_count": null,
   "id": "80b7ecc0-674c-4a08-bf85-ff91b46055fe",
   "metadata": {},
   "outputs": [],
   "source": [
    "model.section"
   ]
  },
  {
   "cell_type": "code",
   "execution_count": null,
   "id": "fe7594e0-154c-42a7-a8e4-d027729f5879",
   "metadata": {},
   "outputs": [],
   "source": []
  }
 ],
 "metadata": {
  "kernelspec": {
   "display_name": "Mamba-39",
   "language": "python",
   "name": "mamba-py39"
  },
  "language_info": {
   "codemirror_mode": {
    "name": "ipython",
    "version": 3
   },
   "file_extension": ".py",
   "mimetype": "text/x-python",
   "name": "python",
   "nbconvert_exporter": "python",
   "pygments_lexer": "ipython3",
   "version": "3.9.16"
  }
 },
 "nbformat": 4,
 "nbformat_minor": 5
}
